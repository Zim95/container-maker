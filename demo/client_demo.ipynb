{
 "cells": [
  {
   "cell_type": "code",
   "execution_count": 1,
   "metadata": {},
   "outputs": [],
   "source": [
    "# built-ins\n",
    "import sys\n",
    "import os\n",
    "sys.path.append(os.path.abspath('..'))\n",
    "\n",
    "# modules\n",
    "from container_maker_spec.service_pb2_grpc import ContainerMakerAPIStub\n",
    "from container_maker_spec.types_pb2 import CreateContainerRequest\n",
    "from container_maker_spec.types_pb2 import GetContainerRequest\n",
    "from container_maker_spec.types_pb2 import ListContainerRequest\n",
    "from container_maker_spec.types_pb2 import DeleteContainerRequest\n",
    "from container_maker_spec.types_pb2 import ContainerResponse\n",
    "from src.common.utils import read_certs\n",
    "\n",
    "# third party\n",
    "import grpc"
   ]
  },
  {
   "cell_type": "markdown",
   "metadata": {},
   "source": [
    "## Channels\n",
    "The first step is to create GRPC channels. We have two types of channels, `insecure` and `secure`.\n",
    "Based on the environment choose the right channel.\n",
    "\n",
    "There are two cells, choose one of them."
   ]
  },
  {
   "cell_type": "code",
   "execution_count": 4,
   "metadata": {},
   "outputs": [],
   "source": [
    "# insecure channel\n",
    "ic: grpc.Channel = grpc.insecure_channel(\"container-maker-development-service:50052\")\n",
    "stub: ContainerMakerAPIStub = ContainerMakerAPIStub(channel=ic)"
   ]
  },
  {
   "cell_type": "code",
   "execution_count": 5,
   "metadata": {},
   "outputs": [],
   "source": [
    "# secure channel\n",
    "client_key: bytes = read_certs('CLIENT_KEY', './cert/client.key')\n",
    "client_cert: bytes = read_certs('CLIENT_CRT', './cert/client.crt')\n",
    "ca_cert: bytes = read_certs('CA_CRT', './cert/ca.crt')\n",
    "\n",
    "credentials: grpc.ServerCredentials = grpc.ssl_channel_credentials(\n",
    "    root_certificates=ca_cert,\n",
    "    private_key=client_key,\n",
    "    certificate_chain=client_cert\n",
    ")\n",
    "\n",
    "sc: grpc.Channel = grpc.secure_channel(\"container-maker-development-service:50052\", credentials)\n",
    "stub: ContainerMakerAPIStub = ContainerMakerAPIStub(channel=sc)\n"
   ]
  },
  {
   "cell_type": "markdown",
   "metadata": {},
   "source": [
    "## Operations\n",
    "These are the operations:\n",
    "1. Create Container\n",
    "2. Get Container\n",
    "3. List Containers\n",
    "4. Delete Container\n",
    "\n",
    "Below we have examples for each"
   ]
  },
  {
   "cell_type": "code",
   "execution_count": 6,
   "metadata": {},
   "outputs": [
    {
     "name": "stdout",
     "output_type": "stream",
     "text": [
      "container_id: \"5596e2c8-942d-4c3b-80b4-d711ac0ffc6d\"\n",
      "container_name: \"test-ssh-container-service\"\n",
      "container_ip: \"10.106.109.52\"\n",
      "container_network: \"test-ssh-namespace\"\n",
      "ports {\n",
      "  container_port: 2222\n",
      "  protocol: \"TCP\"\n",
      "}\n",
      "\n"
     ]
    }
   ],
   "source": [
    "# Create Container\n",
    "from container_maker_spec.types_pb2 import ExposureLevel as GRPCExposureLevel\n",
    "\n",
    "create_container_request: CreateContainerRequest = CreateContainerRequest(\n",
    "    container_name='test-ssh-container',\n",
    "    network_name='test-ssh-namespace',\n",
    "    image_name='zim95/ssh_ubuntu:latest',\n",
    "    exposure_level=GRPCExposureLevel.EXPOSURE_LEVEL_CLUSTER_LOCAL,\n",
    "    publish_information=[\n",
    "        {'publish_port': 2222, 'target_port': 22, 'protocol': 'TCP'}\n",
    "    ],\n",
    "    environment_variables={\n",
    "        'SSH_PASSWORD': '12345678',\n",
    "        'SSH_USERNAME': 'test-user',\n",
    "    }\n",
    ")\n",
    "\n",
    "create_container_response = stub.createContainer(create_container_request)\n",
    "print(create_container_response)"
   ]
  },
  {
   "cell_type": "code",
   "execution_count": 9,
   "metadata": {},
   "outputs": [
    {
     "name": "stdout",
     "output_type": "stream",
     "text": [
      "container_id: \"5596e2c8-942d-4c3b-80b4-d711ac0ffc6d\"\n",
      "container_name: \"test-ssh-container-service\"\n",
      "container_ip: \"10.106.109.52\"\n",
      "container_network: \"test-ssh-namespace\"\n",
      "ports {\n",
      "  container_port: 2222\n",
      "  protocol: \"TCP\"\n",
      "}\n",
      "\n"
     ]
    }
   ],
   "source": [
    "# Get Container\n",
    "get_container_request: GetContainerRequest = GetContainerRequest(\n",
    "    container_id='5596e2c8-942d-4c3b-80b4-d711ac0ffc6d', network_name='test-ssh-namespace'\n",
    ")\n",
    "get_container_response = stub.getContainer(get_container_request)\n",
    "print(get_container_response)"
   ]
  },
  {
   "cell_type": "code",
   "execution_count": 7,
   "metadata": {},
   "outputs": [
    {
     "name": "stdout",
     "output_type": "stream",
     "text": [
      "containers {\n",
      "  container_id: \"5596e2c8-942d-4c3b-80b4-d711ac0ffc6d\"\n",
      "  container_name: \"test-ssh-container-service\"\n",
      "  container_ip: \"10.106.109.52\"\n",
      "  container_network: \"test-ssh-namespace\"\n",
      "  ports {\n",
      "    container_port: 2222\n",
      "    protocol: \"TCP\"\n",
      "  }\n",
      "}\n",
      "\n"
     ]
    }
   ],
   "source": [
    "# list containers\n",
    "list_container_request: ListContainerRequest = ListContainerRequest(network_name='test-ssh-namespace')\n",
    "list_container_response = stub.listContainer(list_container_request)\n",
    "print(list_container_response)"
   ]
  },
  {
   "cell_type": "code",
   "execution_count": null,
   "metadata": {},
   "outputs": [],
   "source": [
    "# delete container\n",
    "delete_container_request: DeleteContainerRequest = DeleteContainerRequest(\n",
    "    container_id='09db196d-8503-48f6-bc16-5ee4e6cbc675', network_name='test-ssh-namespace'\n",
    ")\n",
    "delete_container_response = stub.deleteContainer(delete_container_request)\n",
    "print(delete_container_response)"
   ]
  }
 ],
 "metadata": {
  "kernelspec": {
   "display_name": "Python 3 (ipykernel)",
   "language": "python",
   "name": "python3"
  },
  "language_info": {
   "codemirror_mode": {
    "name": "ipython",
    "version": 3
   },
   "file_extension": ".py",
   "mimetype": "text/x-python",
   "name": "python",
   "nbconvert_exporter": "python",
   "pygments_lexer": "ipython3",
   "version": "3.11.11"
  }
 },
 "nbformat": 4,
 "nbformat_minor": 4
}
