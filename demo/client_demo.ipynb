{
 "cells": [
  {
   "cell_type": "code",
   "execution_count": 3,
   "metadata": {},
   "outputs": [],
   "source": [
    "# modules\n",
    "from container_maker_spec.service_pb2_grpc import ContainerMakerAPIStub\n",
    "from container_maker_spec.types_pb2 import CreateContainerRequest, CreateContainerResponse\n",
    "from container_maker_spec.types_pb2 import ManipulateContainerRequest\n",
    "import src.utils as utils\n",
    "\n",
    "# third party\n",
    "import grpc"
   ]
  },
  {
   "cell_type": "markdown",
   "metadata": {},
   "source": [
    "## Channels\n",
    "The first step is to create GRPC channels. We have two types of channels, `insecure` and `secure`.\n",
    "Based on the environment choose the right channel.\n",
    "\n",
    "There are two cells, choose one of them."
   ]
  },
  {
   "cell_type": "code",
   "execution_count": 12,
   "metadata": {},
   "outputs": [],
   "source": [
    "# insecure channel\n",
    "ic: grpc.Channel = grpc.insecure_channel(\"0.0.0.0:50052\")\n",
    "stub: ContainerMakerAPIStub = ContainerMakerAPIStub(channel=ic)"
   ]
  },
  {
   "cell_type": "code",
   "execution_count": 19,
   "metadata": {},
   "outputs": [],
   "source": [
    "# secure channel\n",
    "server_key: bytes = utils.read_certs('SERVER_KEY', './cert/server.key')\n",
    "server_cert: bytes = utils.read_certs('SERVER_CRT', './cert/server.crt')\n",
    "ca_cert: bytes = utils.read_certs('CA_CRT', './cert/ca.crt')\n",
    "\n",
    "credentials: grpc.ServerCredentials = grpc.ssl_channel_credentials(\n",
    "    root_certificates=ca_cert,\n",
    "    private_key=client_key,\n",
    "    certificate_chain=client_cert\n",
    ")\n",
    "\n",
    "sc = grpc.secure_channel(\"localhost:50052\", credentials)\n",
    "stub = ContainerMakerAPIStub(channel=sc)\n"
   ]
  },
  {
   "cell_type": "markdown",
   "metadata": {},
   "source": [
    "## Operations\n",
    "These are the operations:\n",
    "1. Create Container\n",
    "2. Start Container\n",
    "3. Stop Container\n",
    "4. Delete Container\n",
    "\n",
    "Below we have examples for each"
   ]
  },
  {
   "cell_type": "code",
   "execution_count": 20,
   "metadata": {},
   "outputs": [
    {
     "name": "stdout",
     "output_type": "stream",
     "text": [
      "[container_id: \"test_id\"\n",
      "container_image: \"zim95/ssh_ubuntu:latest\"\n",
      "container_name: \"test_grpc_ssh_ubuntu\"\n",
      "container_network: \"test_grpc_ssh_ubuntu_network\"\n",
      "container_port: 5\n",
      "]\n"
     ]
    }
   ],
   "source": [
    "# Create Container\n",
    "create_container_request: CreateContainerRequest = CreateContainerRequest(\n",
    "    image_name=\"zim95/ssh_ubuntu:latest\",\n",
    "    container_name=\"test_grpc_ssh_ubuntu\",\n",
    "    container_network=\"test_grpc_ssh_ubuntu_network\",\n",
    "    publish_information={\"22/tcp\": \"2222\"},\n",
    "    environment={\"SSH_USERNAME\": \"zim95\", \"SSH_PASSWORD\": \"1234\"}\n",
    ")\n",
    "\n",
    "response = stub.createContainer(create_container_request)\n",
    "print(response.create_container_response_item)"
   ]
  },
  {
   "cell_type": "code",
   "execution_count": 17,
   "metadata": {},
   "outputs": [
    {
     "name": "stdout",
     "output_type": "stream",
     "text": [
      "Exception calling application: Test Exception\n"
     ]
    }
   ],
   "source": [
    "# Start Container\n",
    "start_container_request: ManipulateContainerRequest = ManipulateContainerRequest(\n",
    "    container_ids=[\"test_id\"],\n",
    "    container_network=\"test_grpc_ssh_ubuntu_network\"\n",
    ")\n",
    "try:\n",
    "    response = stub.startContainer(start_container_request)\n",
    "    print(response)\n",
    "except Exception as e:\n",
    "    print(e.details())"
   ]
  }
 ],
 "metadata": {
  "kernelspec": {
   "display_name": "container-maker",
   "language": "python",
   "name": "python3"
  },
  "language_info": {
   "codemirror_mode": {
    "name": "ipython",
    "version": 3
   },
   "file_extension": ".py",
   "mimetype": "text/x-python",
   "name": "python",
   "nbconvert_exporter": "python",
   "pygments_lexer": "ipython3",
   "version": "3.10.12"
  }
 },
 "nbformat": 4,
 "nbformat_minor": 2
}
